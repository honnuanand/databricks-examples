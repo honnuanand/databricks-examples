{
 "cells": [
  {
   "cell_type": "markdown",
   "metadata": {
    "application/vnd.databricks.v1+cell": {
     "cellMetadata": {},
     "inputWidgets": {},
     "nuid": "1ab2b56d-38bd-4a53-bed7-8448a5e2c09d",
     "showTitle": false,
     "tableResultSettingsMap": {},
     "title": ""
    }
   },
   "source": [
    "# 01_ADLS_Library_Setup\n",
    "\n",
    "## Mounting ADLS Gen2 and Uploading Custom Python Libraries\n",
    "\n",
    "This notebook:\n",
    "- ✅ Mounts the `libs` folder from ADLS Gen2  \n",
    "- ✅ Uploads a custom Python `.py` or `.zip` file into that folder\n",
    "\n",
    "⚠ You only need to run this notebook once (or when updating the library)."
   ]
  },
  {
   "cell_type": "code",
   "execution_count": 0,
   "metadata": {
    "application/vnd.databricks.v1+cell": {
     "cellMetadata": {},
     "inputWidgets": {},
     "nuid": "16cce73d-38b1-4667-96e6-1cb5734a3a76",
     "showTitle": false,
     "tableResultSettingsMap": {},
     "title": ""
    }
   },
   "outputs": [],
   "source": [
    "# Step 1: Mount ADLS Folder\n",
    "storage_account = \"araostorage\"\n",
    "container_name = \"araolibraryloadtest\"\n",
    "storage_account_key = dbutils.secrets.get(scope=\"adls-secrets\", key=\"adls-access-key\").strip()\n",
    "\n",
    "mount_point = \"/mnt/libs\"\n",
    "source_path = f\"abfss://{container_name}@{storage_account}.dfs.core.usgovcloudapi.net/libs\"\n",
    "\n",
    "if not any(mount.mountPoint == mount_point for mount in dbutils.fs.mounts()):\n",
    "    dbutils.fs.mount(\n",
    "        source=source_path,\n",
    "        mount_point=mount_point,\n",
    "        extra_configs={f\"fs.azure.account.key.{storage_account}.dfs.core.usgovcloudapi.net\": storage_account_key}\n",
    "    )\n",
    "    print(f\"✅ Mounted {source_path} at {mount_point}\")\n",
    "else:\n",
    "    print(f\"✅ Already mounted at {mount_point}\")"
   ]
  },
  {
   "cell_type": "code",
   "execution_count": 0,
   "metadata": {
    "application/vnd.databricks.v1+cell": {
     "cellMetadata": {},
     "inputWidgets": {},
     "nuid": "a3dade97-f69c-4d10-bed2-abfd64040b2e",
     "showTitle": false,
     "tableResultSettingsMap": {},
     "title": ""
    }
   },
   "outputs": [],
   "source": [
    "# Step 2: Upload Library File\n",
    "local_file_path = \"/dbfs/tmp/mylib.py\"  # Update this to your local file path\n",
    "adls_target_path = f\"{mount_point}/mylib.py\"\n",
    "\n",
    "dbutils.fs.cp(f\"file:{local_file_path}\", adls_target_path, True)\n",
    "\n",
    "print(f\"✅ Uploaded {local_file_path} to {adls_target_path}\")"
   ]
  }
 ],
 "metadata": {
  "application/vnd.databricks.v1+notebook": {
   "computePreferences": null,
   "dashboards": [],
   "environmentMetadata": {
    "base_environment": "",
    "environment_version": "2"
   },
   "inputWidgetPreferences": null,
   "language": "python",
   "notebookMetadata": {
    "pythonIndentUnit": 4
   },
   "notebookName": "01_ADLS_Library_Setup",
   "widgets": {}
  },
  "language_info": {
   "name": "python"
  }
 },
 "nbformat": 4,
 "nbformat_minor": 0
}